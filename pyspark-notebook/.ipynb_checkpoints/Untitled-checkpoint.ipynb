{
 "cells": [
  {
   "cell_type": "code",
   "execution_count": 12,
   "metadata": {},
   "outputs": [
    {
     "name": "stdout",
     "output_type": "stream",
     "text": [
      "Welcome to\n",
      "      ____              __\n",
      "     / __/__  ___ _____/ /__\n",
      "    _\\ \\/ _ \\/ _ `/ __/  '_/\n",
      "   /__ / .__/\\_,_/_/ /_/\\_\\   version 3.0.0\n",
      "      /_/\n",
      "\n",
      "Using Python version 3.8.3 (default, Jun  1 2020 17:43:00)\n",
      "SparkSession available as 'spark'.\n"
     ]
    }
   ],
   "source": [
    "import os\n",
    "import sys\n",
    "from pyspark.sql.types import StringType\n",
    "from pyspark.sql.functions import udf\n",
    "from pyspark.sql.types import DoubleType\n",
    "import time\n",
    "spark_name = os.environ.get('SPARK_HOME',None)\n",
    "if not spark_name:\n",
    "    raise ValueErrorError('spark环境没有配置好')\n",
    "sys.path.insert(0,os.path.join(spark_name,'python'))\n",
    "sys.path.insert(0,os.path.join(spark_name,'python/lib/py4j-0.10.4-src.zip'))\n",
    "exec(open(os.path.join(spark_name,'python/pyspark/shell.py')).read())"
   ]
  },
  {
   "cell_type": "code",
   "execution_count": 19,
   "metadata": {},
   "outputs": [
    {
     "name": "stdout",
     "output_type": "stream",
     "text": [
      "威士忌Schema:\n",
      "root\n",
      " |-- details: struct (nullable = true)\n",
      " |    |-- star: string (nullable = true)\n",
      " |    |-- text: string (nullable = true)\n",
      " |    |-- user_name: string (nullable = true)\n",
      " |-- whiskey_name: string (nullable = true)\n",
      "\n",
      "資料總比數: 3846\n",
      "使用時間: 1.0674247741699219 seconds \n"
     ]
    }
   ],
   "source": [
    "start_time = time.time()\n",
    "wineDF = spark.read.json(r\"./data/test.json\")\n",
    "print(f\"威士忌Schema:\")\n",
    "wineDF.printSchema()\n",
    "print(f\"資料總比數: {wineDF.count()}\")\n",
    "print(\"使用時間: %s seconds \" % (time.time() - start_time))"
   ]
  },
  {
   "cell_type": "code",
   "execution_count": 20,
   "metadata": {},
   "outputs": [
    {
     "name": "stdout",
     "output_type": "stream",
     "text": [
      "+--------------------+--------------------+\n",
      "|             details|        whiskey_name|\n",
      "+--------------------+--------------------+\n",
      "|[null, null, \n",
      "ahu...|thomas-h-handy-sa...|\n",
      "|[4.0, null, \n",
      "Petr...|laphroaig-an-cuan...|\n",
      "|[5.0, null, \n",
      "kjel...|laphroaig-an-cuan...|\n",
      "|[5.0, This here i...|laphroaig-an-cuan...|\n",
      "|[5.0, null, \n",
      "Theg...|laphroaig-an-cuan...|\n",
      "|[5.0, null, \n",
      "D-Re...|laphroaig-an-cuan...|\n",
      "|[5.0, null, \n",
      "Espe...|laphroaig-an-cuan...|\n",
      "|[5.0, null, \n",
      "sliq...|laphroaig-an-cuan...|\n",
      "|[4.0, null, \n",
      "ther...|fog-s-end-montere...|\n",
      "|[3.0, It’s fine, ...|fog-s-end-montere...|\n",
      "|[4.25, null, \n",
      "the...|fog-s-end-montere...|\n",
      "|[4.0, null, \n",
      "ther...|fog-s-end-montere...|\n",
      "|[4.25, null, \n",
      "the...|fog-s-end-montere...|\n",
      "|[1.0, null, \n",
      "Jeff...|fog-s-end-montere...|\n",
      "|[3.0, null, \n",
      "Terr...|fog-s-end-montere...|\n",
      "|[3.0, null, \n",
      "cona...|fog-s-end-montere...|\n",
      "|[3.0, null, \n",
      "Dray...|fog-s-end-montere...|\n",
      "|[3.5, The nose is...|longmorn-15-year-old|\n",
      "|[4.0, null, \n",
      "Dani...|longmorn-15-year-old|\n",
      "|[3.75, null, \n",
      "whi...|longmorn-15-year-old|\n",
      "+--------------------+--------------------+\n",
      "only showing top 20 rows\n",
      "\n"
     ]
    }
   ],
   "source": [
    "wineDF.show()"
   ]
  },
  {
   "cell_type": "code",
   "execution_count": 17,
   "metadata": {},
   "outputs": [
    {
     "name": "stdout",
     "output_type": "stream",
     "text": [
      "+--------------------+--------------------+----+----------------+\n",
      "|             comment|                name|star|       user_name|\n",
      "+--------------------+--------------------+----+----------------+\n",
      "|YUM! If you can f...|four-roses-bourbo...| 4.0|    WhiskeyWoman|\n",
      "|Great bourbon, it...|four-roses-bourbo...| 4.0|     sabo_taylor|\n",
      "|                null|four-roses-bourbo...| 4.0|   WhiskeyJagoff|\n",
      "|                null|four-roses-bourbo...| 5.0|Stephanie_Moreno|\n",
      "|                null|four-roses-bourbo...| 3.0|       skallen23|\n",
      "|                null|four-roses-bourbo...| 4.0|          Dsotof|\n",
      "|                null|four-roses-bourbo...| 4.0|          TarmoS|\n",
      "|                null|four-roses-bourbo...| 4.0|     D-Schlueter|\n",
      "|                null|four-roses-bourbo...| 4.0|      Drewolson7|\n",
      "|                null|four-roses-bourbo...| 4.0|     MissWhiskey|\n",
      "|                null|four-roses-bourbo...| 2.0|         philipc|\n",
      "|     $60 from BevMo.|four-roses-bourbo...|null|     Joe-Mullins|\n",
      "|                null|four-roses-bourbo...| 4.0|   ideamachineco|\n",
      "|                null|four-roses-bourbo...| 5.0|    Derek-Denney|\n",
      "|                null|four-roses-bourbo...| 2.0|      beerseeker|\n",
      "|                null|four-roses-bourbo...| 4.0| Craft-Beer-Geek|\n",
      "|                null|four-roses-bourbo...| 4.0|    RebeccaLaRue|\n",
      "|                null|four-roses-bourbo...| 4.0|        Npgerman|\n",
      "|                null|four-roses-bourbo...| 4.0|           BenTJ|\n",
      "|                null|four-roses-bourbo...| 4.0|    David-Lester|\n",
      "+--------------------+--------------------+----+----------------+\n",
      "only showing top 20 rows\n",
      "\n",
      "使用時間: 1.3941702842712402 seconds \n"
     ]
    }
   ],
   "source": [
    "start_time = time.time()\n",
    "wineDF.createOrReplaceTempView(\"wine_name\")\n",
    "some_whiskey = spark.sql(\"SELECT * FROM wine_name WHERE whiskey_name='four-roses-bourbon-single-barrel-2014'\")\n",
    "some_whiskey.count()\n",
    "some_whiskey.show()\n",
    "print(\"使用時間: %s seconds \" % (time.time() - start_time))"
   ]
  },
  {
   "cell_type": "code",
   "execution_count": 18,
   "metadata": {},
   "outputs": [
    {
     "data": {
      "text/plain": [
       "494"
      ]
     },
     "execution_count": 18,
     "metadata": {},
     "output_type": "execute_result"
    }
   ],
   "source": [
    "some_whiskey.count()"
   ]
  },
  {
   "cell_type": "code",
   "execution_count": null,
   "metadata": {},
   "outputs": [],
   "source": []
  }
 ],
 "metadata": {
  "kernelspec": {
   "display_name": "Python 3",
   "language": "python",
   "name": "python3"
  },
  "language_info": {
   "codemirror_mode": {
    "name": "ipython",
    "version": 3
   },
   "file_extension": ".py",
   "mimetype": "text/x-python",
   "name": "python",
   "nbconvert_exporter": "python",
   "pygments_lexer": "ipython3",
   "version": "3.8.3"
  }
 },
 "nbformat": 4,
 "nbformat_minor": 4
}
