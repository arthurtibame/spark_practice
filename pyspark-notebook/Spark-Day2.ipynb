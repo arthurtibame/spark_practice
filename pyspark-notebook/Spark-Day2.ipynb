{
 "cells": [
  {
   "cell_type": "markdown",
   "metadata": {},
   "source": [
    "# Spark Day 1\n",
    "![](https://pic2.zhimg.com/v2-90d0508bebd533f277bdaa874bf1c15b_1440w.jpg)"
   ]
  },
  {
   "cell_type": "code",
   "execution_count": 2,
   "metadata": {},
   "outputs": [
    {
     "name": "stdout",
     "output_type": "stream",
     "text": [
      "Welcome to\n",
      "      ____              __\n",
      "     / __/__  ___ _____/ /__\n",
      "    _\\ \\/ _ \\/ _ `/ __/  '_/\n",
      "   /__ / .__/\\_,_/_/ /_/\\_\\   version 3.0.0\n",
      "      /_/\n",
      "\n",
      "Using Python version 3.8.3 (default, Jun  1 2020 17:43:00)\n",
      "SparkSession available as 'spark'.\n"
     ]
    }
   ],
   "source": [
    "import os\n",
    "import sys\n",
    "from pyspark.sql.types import StringType\n",
    "from pyspark.sql.functions import udf\n",
    "from pyspark.sql.types import DoubleType\n",
    "import time\n",
    "spark_name = os.environ.get('SPARK_HOME',None)\n",
    "if not spark_name:\n",
    "    raise ValueErrorError('spark环境没有配置好')\n",
    "sys.path.insert(0,os.path.join(spark_name,'python'))\n",
    "sys.path.insert(0,os.path.join(spark_name,'python/lib/py4j-0.10.4-src.zip'))\n",
    "exec(open(os.path.join(spark_name,'python/pyspark/shell.py')).read())\n"
   ]
  },
  {
   "cell_type": "code",
   "execution_count": null,
   "metadata": {},
   "outputs": [],
   "source": []
  }
 ],
 "metadata": {
  "kernelspec": {
   "display_name": "Python 3",
   "language": "python",
   "name": "python3"
  },
  "language_info": {
   "codemirror_mode": {
    "name": "ipython",
    "version": 3
   },
   "file_extension": ".py",
   "mimetype": "text/x-python",
   "name": "python",
   "nbconvert_exporter": "python",
   "pygments_lexer": "ipython3",
   "version": "3.8.3"
  }
 },
 "nbformat": 4,
 "nbformat_minor": 4
}
