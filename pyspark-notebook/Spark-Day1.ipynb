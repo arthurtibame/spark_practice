{
 "cells": [
  {
   "cell_type": "markdown",
   "metadata": {},
   "source": [
    "# Spark Day 1\n",    
    "![](https://pic2.zhimg.com/v2-90d0508bebd533f277bdaa874bf1c15b_1440w.jpg)"
   ]
  },
  {
   "cell_type": "code",
   "execution_count": 1,
   "metadata": {},
   "outputs": [
    {
     "name": "stdout",
     "output_type": "stream",
     "text": [
      "Welcome to\n",
      "      ____              __\n",
      "     / __/__  ___ _____/ /__\n",
      "    _\\ \\/ _ \\/ _ `/ __/  '_/\n",
      "   /__ / .__/\\_,_/_/ /_/\\_\\   version 3.0.0\n",
      "      /_/\n",
      "\n",
      "Using Python version 3.8.3 (default, Jun  1 2020 17:43:00)\n",
      "SparkSession available as 'spark'.\n"
     ]
    }
   ],
   "source": [
    "import os\n",
    "import sys\n",
    "from pyspark.sql.types import StringType\n",
    "from pyspark.sql.functions import udf\n",
    "from pyspark.sql.types import DoubleType\n",
    "import time\n",
    "spark_name = os.environ.get('SPARK_HOME',None)\n",
    "if not spark_name:\n",
    "    raise ValueErrorError('spark环境没有配置好')\n",
    "sys.path.insert(0,os.path.join(spark_name,'python'))\n",
    "sys.path.insert(0,os.path.join(spark_name,'python/lib/py4j-0.10.4-src.zip'))\n",
    "exec(open(os.path.join(spark_name,'python/pyspark/shell.py')).read())\n"
   ]
  },
  {
   "cell_type": "markdown",
   "metadata": {},
   "source": [
    "## Read the output.json"
   ]
  },
  {
   "cell_type": "code",
   "execution_count": 2,
   "metadata": {},
   "outputs": [
    {
     "name": "stdout",
     "output_type": "stream",
     "text": [
      "威士忌Schema:\n",
      "root\n",
      " |-- comment: string (nullable = true)\n",
      " |-- name: string (nullable = true)\n",
      " |-- star: string (nullable = true)\n",
      " |-- user_name: string (nullable = true)\n",
      "\n",
      "資料總比數: 401564\n",
      "使用時間: 13.382969856262207 seconds \n"
     ]
    }
   ],
   "source": [
    "start_time = time.time()\n",
    "wineDF = spark.read.json(r\"./data/output.json\")\n",
    "print(f\"威士忌Schema:\")\n",
    "wineDF.printSchema()\n",
    "print(f\"資料總比數: {wineDF.count()}\")\n",
    "print(\"使用時間: %s seconds \" % (time.time() - start_time))"
   ]
  },
  {
   "cell_type": "code",
   "execution_count": 3,
   "metadata": {
    "scrolled": true
   },
   "outputs": [
    {
     "name": "stdout",
     "output_type": "stream",
     "text": [
      "+--------------------+--------------------+----+--------------------+\n",
      "|             comment|                name|star|           user_name|\n",
      "+--------------------+--------------------+----+--------------------+\n",
      "|                null|william-larue-wel...| 5.0|        noahmjohnson|\n",
      "|tremendous. silky...|william-larue-wel...| 5.0|New-Harvest-Coffe...|\n",
      "|Neat - very hot i...|william-larue-wel...| 3.0|        BrokenBridge|\n",
      "|An amazing Whiske...|william-larue-wel...| 5.0|         Darwincat67|\n",
      "|                null|william-larue-wel...| 5.0|     Jason-Penberthy|\n",
      "|                null|william-larue-wel...| 3.0|         mrfishyfish|\n",
      "|                null|william-larue-wel...| 5.0|         Adalessa211|\n",
      "|                null|william-larue-wel...| 5.0|     Craft-Beer-Geek|\n",
      "|                null|william-larue-wel...| 5.0|     Sergio-R-Garcia|\n",
      "|                null|william-larue-wel...| 4.0|           quickwing|\n",
      "|                null|the-balvenie-tun-...| 5.0|              VinnyB|\n",
      "|                null|the-balvenie-tun-...| 5.0|            grayblue|\n",
      "|                null|william-larue-wel...| 5.0|            Csoterop|\n",
      "|                null|william-larue-wel...| 5.0|            pauly33x|\n",
      "|                null|william-larue-wel...| 5.0|              doneeb|\n",
      "|Lovely bourbon. E...|william-larue-wel...| 5.0|          galaxyhero|\n",
      "|                null|william-larue-wel...| 5.0|       KybourbonJosh|\n",
      "|                null|william-larue-wel...| 5.0|             general|\n",
      "|Tasted at WhiskyF...|william-larue-wel...| 4.0|Richard-ModernDri...|\n",
      "|                null|william-larue-wel...| 5.0|            danabell|\n",
      "+--------------------+--------------------+----+--------------------+\n",
      "only showing top 20 rows\n",
      "\n"
     ]
    }
   ],
   "source": [
    "wineDF.show()"
   ]
  },
  {
   "cell_type": "markdown",
   "metadata": {},
   "source": [
    "## 下SQL 語法查詢"
   ]
  },
  {
   "cell_type": "code",
   "execution_count": 4,
   "metadata": {},
   "outputs": [
    {
     "name": "stdout",
     "output_type": "stream",
     "text": [
      "+--------------------+--------------------+----+----------------+\n",
      "|             comment|                name|star|       user_name|\n",
      "+--------------------+--------------------+----+----------------+\n",
      "|YUM! If you can f...|four-roses-bourbo...| 4.0|    WhiskeyWoman|\n",
      "|Great bourbon, it...|four-roses-bourbo...| 4.0|     sabo_taylor|\n",
      "|                null|four-roses-bourbo...| 4.0|   WhiskeyJagoff|\n",
      "|                null|four-roses-bourbo...| 5.0|Stephanie_Moreno|\n",
      "|                null|four-roses-bourbo...| 3.0|       skallen23|\n",
      "|                null|four-roses-bourbo...| 4.0|          Dsotof|\n",
      "|                null|four-roses-bourbo...| 4.0|          TarmoS|\n",
      "|                null|four-roses-bourbo...| 4.0|     D-Schlueter|\n",
      "|                null|four-roses-bourbo...| 4.0|      Drewolson7|\n",
      "|                null|four-roses-bourbo...| 4.0|     MissWhiskey|\n",
      "|                null|four-roses-bourbo...| 2.0|         philipc|\n",
      "|     $60 from BevMo.|four-roses-bourbo...|null|     Joe-Mullins|\n",
      "|                null|four-roses-bourbo...| 4.0|   ideamachineco|\n",
      "|                null|four-roses-bourbo...| 5.0|    Derek-Denney|\n",
      "|                null|four-roses-bourbo...| 2.0|      beerseeker|\n",
      "|                null|four-roses-bourbo...| 4.0| Craft-Beer-Geek|\n",
      "|                null|four-roses-bourbo...| 4.0|    RebeccaLaRue|\n",
      "|                null|four-roses-bourbo...| 4.0|        Npgerman|\n",
      "|                null|four-roses-bourbo...| 4.0|           BenTJ|\n",
      "|                null|four-roses-bourbo...| 4.0|    David-Lester|\n",
      "+--------------------+--------------------+----+----------------+\n",
      "only showing top 20 rows\n",
      "\n",
      "使用時間: 1.1998250484466553 seconds \n"
     ]
    }
   ],
   "source": [
    "start_time = time.time()\n",
    "wineDF.createOrReplaceTempView(\"wine_name\")\n",
    "some_whiskey = spark.sql(\"SELECT * FROM wine_name WHERE name='four-roses-bourbon-single-barrel-2014'\")\n",
    "some_whiskey.count()\n",
    "some_whiskey.show()\n",
    "print(\"使用時間: %s seconds \" % (time.time() - start_time))\n",
    "\n"
   ]
  },
  {
   "cell_type": "code",
   "execution_count": 5,
   "metadata": {},
   "outputs": [],
   "source": [
    "import matplotlib.pyplot as plt\n",
    "%matplotlib inline"
   ]
  },
  {
   "cell_type": "code",
   "execution_count": 6,
   "metadata": {},
   "outputs": [],
   "source": [
    "dfPlot = some_whiskey.select(\"star\").groupBy(\"star\").count()"
   ]
  },
  {
   "cell_type": "code",
   "execution_count": 7,
   "metadata": {},
   "outputs": [
    {
     "name": "stdout",
     "output_type": "stream",
     "text": [
      "+----+-----+\n",
      "|star|count|\n",
      "+----+-----+\n",
      "| 1.0|    1|\n",
      "| 4.5|    6|\n",
      "|3.75|    1|\n",
      "| 3.5|    1|\n",
      "| 5.0|  181|\n",
      "| 4.0|  232|\n",
      "| 2.0|    9|\n",
      "|4.25|    6|\n",
      "| 3.0|   44|\n",
      "|null|   13|\n",
      "+----+-----+\n",
      "\n"
     ]
    }
   ],
   "source": [
    "dfPlot.show()"
   ]
  },
  {
   "cell_type": "code",
   "execution_count": 8,
   "metadata": {},
   "outputs": [],
   "source": [
    "x= dfPlot.toPandas()['star'].values.tolist()\n",
    "y= dfPlot.toPandas()['count'].values.tolist()"
   ]
  },
  {
   "cell_type": "code",
   "execution_count": 9,
   "metadata": {},
   "outputs": [
    {
     "data": {
      "image/png": "[encoded data removed]",
      "text/plain": [
       "<Figure size 432x288 with 1 Axes>"
      ]
     },
     "metadata": {
      "needs_background": "light"
     },
     "output_type": "display_data"
    }
   ],
   "source": [
    "plt.bar(x,y)\n",
    "plt.show()"
   ]
  },
  {
   "cell_type": "code",
   "execution_count": null,
   "metadata": {},
   "outputs": [],
   "source": []
  },
  {
   "cell_type": "code",
   "execution_count": 10,
   "metadata": {},
   "outputs": [],
   "source": [
    "from pyspark.sql.types import *\n",
    "import time"
   ]
  },
  {
   "cell_type": "code",
   "execution_count": 11,
   "metadata": {},
   "outputs": [],
   "source": [
    "schema = StructType([\n",
    "    StructField(\"comment\", StringType(), True),\n",
    "    StructField(\"name\", StringType(),True),\n",
    "    StructField(\"star\", IntegerType(),True),\n",
    "    StructField(\"user_name\", StringType(), True)\n",
    "])"
   ]
  },
  {
   "cell_type": "code",
   "execution_count": 12,
   "metadata": {},
   "outputs": [
    {
     "name": "stdout",
     "output_type": "stream",
     "text": [
      "使用時間: 0.03426861763000488 seconds \n"
     ]
    }
   ],
   "source": [
    "start_time = time.time()\n",
    "df = spark.read.csv(r\"./data/output.csv\", header=True, schema=schema)\n",
    "print(\"使用時間: %s seconds \" % (time.time() - start_time))"
   ]
  },
  {
   "cell_type": "code",
   "execution_count": 13,
   "metadata": {},
   "outputs": [
    {
     "name": "stdout",
     "output_type": "stream",
     "text": [
      "+--------------------+--------------------+----+------------------+\n",
      "|             comment|                name|star|         user_name|\n",
      "+--------------------+--------------------+----+------------------+\n",
      "|                null|thomas-h-handy-sa...|null|    DanielMeichtry|\n",
      "|                null|thomas-h-handy-sa...|null|        Coladaking|\n",
      "|                null|thomas-h-handy-sa...|null|        Al-Jameson|\n",
      "|                null|thomas-h-handy-sa...|null|           calowe2|\n",
      "|                null|thomas-h-handy-sa...|null|   Stephen-Philips|\n",
      "|                null|thomas-h-handy-sa...|null|   Craft-Beer-Geek|\n",
      "|                null|thomas-h-handy-sa...|null|            jj9096|\n",
      "|Believe the hype....|thomas-h-handy-sa...|null|        petermania|\n",
      "|     $80 - Michigan.|thomas-h-handy-sa...|null|           gvsufan|\n",
      "|Heard a lot about...|thomas-h-handy-sa...|null|           Joe-joe|\n",
      "|                null|port-ellen-32-yea...|null|         cvireak10|\n",
      "|True north at Eau...|port-ellen-32-yea...|null|              rjsw|\n",
      "|                null|port-ellen-32-yea...|null|          willdean|\n",
      "|                null|port-ellen-32-yea...|null|Arkadiusz-Prunesti|\n",
      "|                null|port-ellen-32-yea...|null|               CDF|\n",
      "|                null|port-ellen-32-yea...|null|          Alex-Lee|\n",
      "|Had this at a whi...|port-ellen-32-yea...|null|        OJBratland|\n",
      "|                null|port-ellen-32-yea...|null|           scantin|\n",
      "|                null|port-ellen-32-yea...|null|     Dean-Balassis|\n",
      "|Note: this review...|port-ellen-32-yea...|null|   MrMasterBlaster|\n",
      "+--------------------+--------------------+----+------------------+\n",
      "only showing top 20 rows\n",
      "\n"
     ]
    }
   ],
   "source": [
    "df.show()"
   ]
  },
  {
   "cell_type": "code",
   "execution_count": 14,
   "metadata": {},
   "outputs": [
    {
     "data": {
      "text/plain": [
       "471370"
      ]
     },
     "execution_count": 14,
     "metadata": {},
     "output_type": "execute_result"
    }
   ],
   "source": [
    "df.count()"
   ]
  }
 ],
 "metadata": {
  "kernelspec": {
   "display_name": "Python 3",
   "language": "python",
   "name": "python3"
  },
  "language_info": {
   "codemirror_mode": {
    "name": "ipython",
    "version": 3
   },
   "file_extension": ".py",
   "mimetype": "text/x-python",
   "name": "python",
   "nbconvert_exporter": "python",
   "pygments_lexer": "ipython3",
   "version": "3.8.3"
  }
 },
 "nbformat": 4,
 "nbformat_minor": 4
}
